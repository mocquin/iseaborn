{
 "cells": [
  {
   "cell_type": "markdown",
   "metadata": {},
   "source": [
    "https://github.com/chmduquesne/quickviz"
   ]
  },
  {
   "cell_type": "code",
   "execution_count": 8,
   "metadata": {},
   "outputs": [],
   "source": [
    "%matplotlib ipympl"
   ]
  },
  {
   "cell_type": "code",
   "execution_count": 9,
   "metadata": {},
   "outputs": [],
   "source": [
    "import ipywidgets as ipyw\n",
    "import matplotlib.pyplot as plt\n",
    "import numpy as np\n",
    "import pandas as pd\n",
    "import seaborn as sns\n",
    "\n",
    "import iseaborn"
   ]
  },
  {
   "cell_type": "code",
   "execution_count": 10,
   "metadata": {},
   "outputs": [],
   "source": [
    "iris = sns.load_dataset(\"iris\")\n",
    "titanic = sns.load_dataset(\"titanic\")"
   ]
  },
  {
   "cell_type": "markdown",
   "metadata": {},
   "source": [
    "# Count"
   ]
  },
  {
   "cell_type": "code",
   "execution_count": 11,
   "metadata": {},
   "outputs": [
    {
     "data": {
      "application/vnd.jupyter.widget-view+json": {
       "model_id": "ff95a439a37f4c01acce138f1923d9ea",
       "version_major": 2,
       "version_minor": 0
      },
      "text/plain": [
       "HBox(children=(VBox(children=(Dropdown(description='x:', options=('survived', 'pclass', 'sex', 'age', 'sibsp',…"
      ]
     },
     "metadata": {},
     "output_type": "display_data"
    }
   ],
   "source": [
    "iseaborn.countplot(titanic)"
   ]
  },
  {
   "cell_type": "markdown",
   "metadata": {},
   "source": [
    "# Heatmap"
   ]
  },
  {
   "cell_type": "code",
   "execution_count": 12,
   "metadata": {},
   "outputs": [
    {
     "data": {
      "application/vnd.jupyter.widget-view+json": {
       "model_id": "ef3b7018eecf40bc9c00fbc52973235e",
       "version_major": 2,
       "version_minor": 0
      },
      "text/plain": [
       "HBox(children=(VBox(children=(SelectMultiple(description='Select ctrl', options=('sepal_length', 'sepal_width'…"
      ]
     },
     "metadata": {},
     "output_type": "display_data"
    }
   ],
   "source": [
    "iseaborn.heatmap(iris)"
   ]
  },
  {
   "cell_type": "markdown",
   "metadata": {},
   "source": [
    "# Pairplot"
   ]
  },
  {
   "cell_type": "code",
   "execution_count": 13,
   "metadata": {},
   "outputs": [
    {
     "data": {
      "application/vnd.jupyter.widget-view+json": {
       "model_id": "e1e5f72253ec481488fd65e1172568b8",
       "version_major": 2,
       "version_minor": 0
      },
      "text/plain": [
       "HBox(children=(VBox(children=(SelectMultiple(description='Select ctrl', options=('sepal_length', 'sepal_width'…"
      ]
     },
     "metadata": {},
     "output_type": "display_data"
    }
   ],
   "source": [
    "iseaborn.pairplot(iris)"
   ]
  },
  {
   "cell_type": "markdown",
   "metadata": {},
   "source": [
    "# Barplot"
   ]
  },
  {
   "cell_type": "code",
   "execution_count": null,
   "metadata": {},
   "outputs": [],
   "source": []
  },
  {
   "cell_type": "code",
   "execution_count": 7,
   "metadata": {},
   "outputs": [],
   "source": [
    "%matplotlib ipympl"
   ]
  },
  {
   "cell_type": "code",
   "execution_count": 8,
   "metadata": {},
   "outputs": [],
   "source": [
    "import ipywidgets as ipyw\n",
    "import matplotlib.pyplot as plt\n",
    "import numpy as np\n",
    "import pandas as pd\n",
    "import seaborn as sns\n",
    "\n",
    "import iseaborn"
   ]
  },
  {
   "cell_type": "code",
   "execution_count": 9,
   "metadata": {},
   "outputs": [],
   "source": [
    "iris = sns.load_dataset(\"iris\")\n",
    "titanic = sns.load_dataset(\"titanic\")"
   ]
  },
  {
   "cell_type": "code",
   "execution_count": 10,
   "metadata": {},
   "outputs": [
    {
     "data": {
      "application/vnd.jupyter.widget-view+json": {
       "model_id": "04e6f15052e44e1889eb23d1a9537282",
       "version_major": 2,
       "version_minor": 0
      },
      "text/plain": [
       "HBox(children=(VBox(children=(Dropdown(description='x:', options=('sepal_length', 'sepal_width', 'petal_length…"
      ]
     },
     "metadata": {},
     "output_type": "display_data"
    }
   ],
   "source": [
    "iseaborn.barplot(iris)"
   ]
  },
  {
   "cell_type": "code",
   "execution_count": null,
   "metadata": {},
   "outputs": [],
   "source": []
  },
  {
   "cell_type": "markdown",
   "metadata": {},
   "source": [
    "# Histplot"
   ]
  },
  {
   "cell_type": "code",
   "execution_count": 1,
   "metadata": {},
   "outputs": [],
   "source": [
    "%matplotlib ipympl"
   ]
  },
  {
   "cell_type": "code",
   "execution_count": 1,
   "metadata": {},
   "outputs": [],
   "source": [
    "import ipywidgets as ipyw\n",
    "import matplotlib.pyplot as plt\n",
    "import numpy as np\n",
    "import pandas as pd\n",
    "import seaborn as sns\n",
    "\n",
    "import iseaborn"
   ]
  },
  {
   "cell_type": "code",
   "execution_count": 2,
   "metadata": {},
   "outputs": [],
   "source": [
    "iris = sns.load_dataset(\"iris\")\n",
    "titanic = sns.load_dataset(\"titanic\")"
   ]
  },
  {
   "cell_type": "code",
   "execution_count": 3,
   "metadata": {},
   "outputs": [
    {
     "data": {
      "application/vnd.jupyter.widget-view+json": {
       "model_id": "c6a58d21d8dc4a7d9dc05ebd8880637d",
       "version_major": 2,
       "version_minor": 0
      },
      "text/plain": [
       "HBox(children=(VBox(children=(Dropdown(description='x:', options=(None, 'sepal_length', 'sepal_width', 'petal_…"
      ]
     },
     "metadata": {},
     "output_type": "display_data"
    }
   ],
   "source": [
    "iseaborn.histplot(iris)"
   ]
  },
  {
   "cell_type": "code",
   "execution_count": null,
   "metadata": {},
   "outputs": [],
   "source": []
  },
  {
   "cell_type": "code",
   "execution_count": null,
   "metadata": {},
   "outputs": [],
   "source": []
  },
  {
   "cell_type": "markdown",
   "metadata": {},
   "source": [
    "tab_contents = ['P0', 'P1', 'P2', 'P3', 'P4']\n",
    "children = [widgets.Text(description=name) for name in tab_contents]\n",
    "tab = widgets.Tab()\n",
    "tab.children = children\n",
    "tab.titles = [str(i) for i in range(len(children))]\n",
    "tab"
   ]
  },
  {
   "cell_type": "code",
   "execution_count": 4,
   "metadata": {},
   "outputs": [
    {
     "name": "stdout",
     "output_type": "stream",
     "text": [
      "7.5.1\n"
     ]
    }
   ],
   "source": [
    "import ipywidgets as ipyw\n",
    "import seaborn as sns\n",
    "import iseaborn\n",
    "print(ipyw.__version__)\n",
    "df = sns.load_dataset(\"iris\")"
   ]
  },
  {
   "cell_type": "code",
   "execution_count": 12,
   "metadata": {},
   "outputs": [],
   "source": [
    "class SeabornBooklet(ipyw.Tab):\n",
    "    \n",
    "    def __init__(self, df=None):\n",
    "        \n",
    "        super().__init__()\n",
    "        \n",
    "        tab_names = [\"Barplot\", 'Countplot', 'Heatmap', \"Histplot\", 'Pairplot']\n",
    "        \n",
    "        barplot_ui   = iseaborn.barplot(df)\n",
    "        countplot_ui = iseaborn.countplot(df)\n",
    "        heatmap_ui   = iseaborn.heatmap(df)\n",
    "        histplot_ui  = iseaborn.histplot(df)\n",
    "        pairplot_ui  = iseaborn.pairplot(df)\n",
    "        tab_content = [barplot_ui, countplot_ui, heatmap_ui, histplot_ui, pairplot_ui]\n",
    "        \n",
    "        children = tab_content\n",
    "        \n",
    "        # this is the Tab interface\n",
    "        self.children = children\n",
    "        for i, name in enumerate(tab_names):\n",
    "            self.set_title(i, name)\n",
    "    \n",
    "        "
   ]
  },
  {
   "cell_type": "code",
   "execution_count": 13,
   "metadata": {},
   "outputs": [
    {
     "data": {
      "application/vnd.jupyter.widget-view+json": {
       "model_id": "e7794b9621b8497595784cf824d8e7af",
       "version_major": 2,
       "version_minor": 0
      },
      "text/plain": [
       "SeabornBooklet(children=(HBox(children=(VBox(children=(Dropdown(description='x:', options=('sepal_length', 'se…"
      ]
     },
     "metadata": {},
     "output_type": "display_data"
    }
   ],
   "source": [
    "b = SeabornBooklet(df)\n",
    "b"
   ]
  },
  {
   "cell_type": "code",
   "execution_count": null,
   "metadata": {},
   "outputs": [],
   "source": []
  },
  {
   "cell_type": "code",
   "execution_count": 16,
   "metadata": {},
   "outputs": [
    {
     "name": "stdout",
     "output_type": "stream",
     "text": [
      "/Users/mocquin/Documents/CLE/Optique/Python/JUPYTER/MYLIB10/MODULES/iseaborn\n"
     ]
    }
   ],
   "source": [
    "!pwd"
   ]
  },
  {
   "cell_type": "code",
   "execution_count": 5,
   "metadata": {},
   "outputs": [],
   "source": [
    "from seaborn_widgets_map import gen_widgets, plot"
   ]
  },
  {
   "cell_type": "code",
   "execution_count": 6,
   "metadata": {},
   "outputs": [],
   "source": [
    "widgets_dicts = gen_widgets(df)"
   ]
  },
  {
   "cell_type": "code",
   "execution_count": 30,
   "metadata": {},
   "outputs": [],
   "source": [
    "import warnings\n",
    "warnings.filterwarnings(\"ignore\")\n",
    "\n",
    "\n",
    "class EnableableWidget(ipyw.HBox):\n",
    "    \n",
    "    def __init__(self, main_widget, widget_name):\n",
    "        super().__init__()\n",
    "        self.main_widget = main_widget\n",
    "        self.enable_checkbox_widget = ipyw.Checkbox(\n",
    "            value=False,\n",
    "            description=widget_name,\n",
    "            disabled=False,\n",
    "            indent=False\n",
    "        )\n",
    "        # only a link is necessary here\n",
    "        self.enabling_link = ipyw.link((self.main_widget, 'disabled'), (self.enable_checkbox_widget, 'value'))   \n",
    "        \n",
    "        self.children = [self.enable_checkbox_widget, self.main_widget]"
   ]
  },
  {
   "cell_type": "code",
   "execution_count": 31,
   "metadata": {},
   "outputs": [
    {
     "data": {
      "application/vnd.jupyter.widget-view+json": {
       "model_id": "42d07d23dcf24732a77ea849973e43fc",
       "version_major": 2,
       "version_minor": 0
      },
      "text/plain": [
       "EnableableWidget(children=(Checkbox(value=False, description='Toto', indent=False), FloatText(value=1.0)))"
      ]
     },
     "metadata": {},
     "output_type": "display_data"
    }
   ],
   "source": [
    "EnableableWidget(ipyw.FloatText(1), \"Toto\")"
   ]
  },
  {
   "cell_type": "code",
   "execution_count": null,
   "metadata": {},
   "outputs": [],
   "source": []
  },
  {
   "cell_type": "code",
   "execution_count": 7,
   "metadata": {},
   "outputs": [],
   "source": [
    "    \n",
    "\n",
    "\n",
    "class PlotInterface(ipyw.HBox):\n",
    "    \n",
    "    def __init__(self, df, func_name, wdict):\n",
    "        super().__init__()\n",
    "        self.wdict = wdict\n",
    "        \n",
    "        vbox_names = ipyw.VBox()\n",
    "        vbox_widgets = ipyw.VBox()\n",
    "        \n",
    "        names = []\n",
    "        widgets = []\n",
    "        for wname, w in self.wdict.items():\n",
    "            names.append(ipyw.Label(wname))\n",
    "            widgets.append(w)\n",
    "        \n",
    "        \n",
    "        vbox_names.children = names\n",
    "        vbox_widgets.children = widgets\n",
    "        \n",
    "        func = getattr(sns, func_name)\n",
    "        \n",
    "        def plot(**kwargs):\n",
    "            if func_name not in [\"distplot\", \"kdeplot\"]:\n",
    "                return func(data=df, **kwargs)\n",
    "            else:\n",
    "                return func(**kwargs)\n",
    "        \n",
    "        \n",
    "        out = ipyw.interactive_output(plot, self.wdict)    \n",
    "        self.children = [vbox_names, vbox_widgets, out]\n",
    "\n",
    "    "
   ]
  },
  {
   "cell_type": "code",
   "execution_count": 8,
   "metadata": {},
   "outputs": [
    {
     "data": {
      "application/vnd.jupyter.widget-view+json": {
       "model_id": "442bc7bf6a834307a7747f5b558704c7",
       "version_major": 2,
       "version_minor": 0
      },
      "text/plain": [
       "PlotInterface(children=(VBox(children=(Label(value='hue'), Label(value='palette'), Label(value='kind'), Label(…"
      ]
     },
     "metadata": {},
     "output_type": "display_data"
    }
   ],
   "source": [
    "PlotInterface(df, \"pairplot\", widgets_dicts[\"pairplot\"])"
   ]
  },
  {
   "cell_type": "code",
   "execution_count": 9,
   "metadata": {},
   "outputs": [],
   "source": [
    "     \n",
    "class SeabornBookletFull(ipyw.Tab):\n",
    "    \n",
    "    def __init__(self, df):\n",
    "        \n",
    "        super().__init__()\n",
    "        \n",
    "        tab_names = []\n",
    "        tab_contents = []\n",
    "        for plot_name, widget_dict in widgets_dicts.items():\n",
    "            if not plot_name == \"*\":\n",
    "                # get tab name\n",
    "                tab_names.append(plot_name)       \n",
    "                # get all widgets in a VBox\n",
    "                plot_interace = PlotInterface(df, plot_name, widgets_dicts[plot_name])\n",
    "                tab_contents.append(plot_interace)\n",
    "        \n",
    "        # set tab content with widgets\n",
    "        self.children = tab_contents\n",
    "        # set tab titles\n",
    "        for i, name in enumerate(tab_names):\n",
    "            self.set_title(i, name)"
   ]
  },
  {
   "cell_type": "code",
   "execution_count": 10,
   "metadata": {},
   "outputs": [
    {
     "data": {
      "image/png": "[encoded data removed]",
      "text/plain": [
       "<Figure size 432x288 with 1 Axes>"
      ]
     },
     "metadata": {
      "needs_background": "light"
     },
     "output_type": "display_data"
    },
    {
     "data": {
      "image/png": "[encoded data removed]",
      "text/plain": [
       "<Figure size 432x288 with 1 Axes>"
      ]
     },
     "metadata": {
      "needs_background": "light"
     },
     "output_type": "display_data"
    },
    {
     "data": {
      "application/vnd.jupyter.widget-view+json": {
       "model_id": "bc9afab64fe14accbf1561615df734b4",
       "version_major": 2,
       "version_minor": 0
      },
      "text/plain": [
       "SeabornBookletFull(children=(PlotInterface(children=(VBox(children=(Label(value='x'), Label(value='y'), Label(…"
      ]
     },
     "metadata": {},
     "output_type": "display_data"
    }
   ],
   "source": [
    "SeabornBookletFull(df)"
   ]
  },
  {
   "cell_type": "code",
   "execution_count": 19,
   "metadata": {},
   "outputs": [],
   "source": [
    "\n",
    "class SeabornBookletFull(ipyw.Tab):\n",
    "    \n",
    "    def __init__(self, df=None):\n",
    "        \n",
    "        super().__init__()\n",
    "        \n",
    "        tab_names = []\n",
    "        tab_contents = []\n",
    "        for plot_name, widget_dict in widgets_dicts.items():\n",
    "            if not plot_name == \"*\":\n",
    "                # get tab name\n",
    "                tab_names.append(plot_name)       \n",
    "                # get all widgets in a VBox\n",
    "                vbox_args = ipyw.VBox()\n",
    "                widget_list = []\n",
    "                for widget_name, widget in widget_dict.items():\n",
    "                    widget_list.append(ipyw.HBox([widget]))\n",
    "                    \n",
    "                output = widgets.Output()                \n",
    "                vbox_args.children = widget_list\n",
    "                with self.output:\n",
    "                    # clear_output de IPython.display\n",
    "                    clear_output(wait=True)\n",
    "                    self.gen_plot()\n",
    "                    show_inline_matplotlib_plots()\n",
    "                tab_contents.append(vbox_args)\n",
    "        \n",
    "        # set tab content with widgets\n",
    "        self.children = tab_contents\n",
    "        # set tab titles\n",
    "        for i, name in enumerate(tab_names):\n",
    "            self.set_title(i, name)\n",
    "                    "
   ]
  },
  {
   "cell_type": "code",
   "execution_count": 20,
   "metadata": {},
   "outputs": [
    {
     "data": {
      "application/vnd.jupyter.widget-view+json": {
       "model_id": "7cc443909cfa46f3841009b50482ceaa",
       "version_major": 2,
       "version_minor": 0
      },
      "text/plain": [
       "SeabornBookletFull(children=(VBox(children=(HBox(children=(Dropdown(options=('sepal_length', 'sepal_width', 'p…"
      ]
     },
     "metadata": {},
     "output_type": "display_data"
    }
   ],
   "source": [
    "SeabornBookletFull(df)"
   ]
  },
  {
   "cell_type": "code",
   "execution_count": null,
   "metadata": {},
   "outputs": [],
   "source": []
  },
  {
   "cell_type": "code",
   "execution_count": null,
   "metadata": {},
   "outputs": [],
   "source": []
  },
  {
   "cell_type": "code",
   "execution_count": null,
   "metadata": {},
   "outputs": [],
   "source": []
  },
  {
   "cell_type": "code",
   "execution_count": null,
   "metadata": {},
   "outputs": [],
   "source": []
  },
  {
   "cell_type": "code",
   "execution_count": null,
   "metadata": {},
   "outputs": [],
   "source": []
  },
  {
   "cell_type": "code",
   "execution_count": 1,
   "metadata": {},
   "outputs": [
    {
     "data": {
      "application/vnd.jupyter.widget-view+json": {
       "model_id": "caf93b3a804c4683a94dd3db5cbce7c8",
       "version_major": 2,
       "version_minor": 0
      },
      "text/plain": [
       "Dropdown(description='a', options=(('sepal_length', [5.1, 4.9, 4.7, 4.6, 5.0, 5.4, 4.6, 5.0, 4.4, 4.9, 5.4, 4.…"
      ]
     },
     "metadata": {},
     "output_type": "display_data"
    }
   ],
   "source": [
    "import seaborn as sns\n",
    "from seaborn_widgets_map import WidgetDispenser, PLOTS\n",
    "\n",
    "iris = sns.load_dataset(\"iris\")\n",
    "iris_widgets = WidgetDispenser(iris)\n",
    "iris_widgets(\"a\")\n",
    "# return a Dropdown widget containing the cols names"
   ]
  },
  {
   "cell_type": "code",
   "execution_count": 1,
   "metadata": {},
   "outputs": [],
   "source": [
    "%matplotlib ipympl"
   ]
  },
  {
   "cell_type": "code",
   "execution_count": 2,
   "metadata": {},
   "outputs": [],
   "source": [
    "import seaborn as sns\n",
    "from seaborn_widgets_map import WidgetDispenser, PLOTS\n",
    "from IPython.display import display, clear_output\n",
    "import matplotlib.pyplot as plt\n",
    "import ipywidgets as ipyw\n",
    "from ipywidgets.widgets.interaction import show_inline_matplotlib_plots\n",
    "iris = sns.load_dataset(\"iris\")"
   ]
  },
  {
   "cell_type": "code",
   "execution_count": 3,
   "metadata": {},
   "outputs": [],
   "source": [
    "plot_dict = {}\n",
    "plot_dict[\"heatmap\"]  =PLOTS[\"heatmap\"]\n"
   ]
  },
  {
   "cell_type": "code",
   "execution_count": 17,
   "metadata": {},
   "outputs": [],
   "source": [
    "class PlotUI(ipyw.HBox):\n",
    "    \n",
    "    def __init__(self, df, plot_name):\n",
    "        super().__init__()\n",
    "        self.df = df\n",
    "        self.plot_name = plot_name\n",
    "        \n",
    "        # set plot dict\n",
    "        self.plot_dict = PLOTS[plot_name]\n",
    "        self.wdispenser = WidgetDispenser(df)\n",
    "        \n",
    "        self.enabled_args  = []\n",
    "        self.widgets_names = []\n",
    "        self.widgets_list  = []\n",
    "\n",
    "        # create a VBox and Output widgets\n",
    "        vbox = ipyw.VBox()\n",
    "        hbox = ipyw.HBox()\n",
    "        self.output = ipyw.Output()\n",
    "\n",
    "        \n",
    "        # create widgets and add them to the HBox\n",
    "        for arg_name, widget_name in self.plot_dict.items():\n",
    "            # create widget\n",
    "            w = self.wdispenser(widget_name)\n",
    "            \n",
    "            self.widgets_names.append(arg_name)\n",
    "            cb = self._create_enable_checkbox(descr=arg_name)\n",
    "            self._link_enable_status(w, cb)\n",
    "            \n",
    "            box = [cb, w]\n",
    "            \n",
    "            self.widgets_list.append(ipyw.HBox(box))\n",
    "        \n",
    "        self.connect_widgets()\n",
    "        \n",
    "        # set the widgets in a VBox\n",
    "        vbox.children = [*self.widgets_list]\n",
    "        \n",
    "        # wrap all the UI for the plot in a hbox\n",
    "        self.children = [vbox, self.output]\n",
    "    \n",
    "    def _create_enable_checkbox(self, descr=\"Disable:\"):\n",
    "        return ipyw.Checkbox(description=descr, value=True)\n",
    "    \n",
    "    def _link_enable_status(self, w, cb):\n",
    "        return ipyw.link((cb, \"value\"), (w, \"disabled\"))\n",
    "\n",
    "\n",
    "    def connect_widgets(self):\n",
    "        for wbox in self.widgets_list:\n",
    "            children = wbox.children\n",
    "            children[1].observe(self.display_plot, 'value')    \n",
    "            children[0].observe(self.display_plot, \"value\")\n",
    "            \n",
    "    def retrieve_enabled_kwargs(self):\n",
    "        kwargs = {}\n",
    "        for wbox, wname in zip(self.widgets_list, self.widgets_names):\n",
    "            children = wbox.children\n",
    "            if children[0].value == False:\n",
    "                kwargs[wname] = children[1].value   \n",
    "        return kwargs\n",
    "        \n",
    "    def display_plot(self, *_):\n",
    "        # clear_output de IPython.display\n",
    "        clear_output(wait=True)\n",
    "        #gen_plot()\n",
    "        kwargs = self.retrieve_enabled_kwargs()\n",
    "        # get all widgets names and values in a dict\n",
    "        self.plot(kwargs)\n",
    "        #show_inline_matplotlib_plots()   \n",
    "            \n",
    "    def plot(self, kwargs):\n",
    "        with self.output:\n",
    "            clear_output(wait=True)\n",
    "            fig, ax = plt.subplots()\n",
    "            method = getattr(sns, self.plot_name)\n",
    "            if self.plot_name == \"heatmap\":\n",
    "                kwargs[\"data\"] = self.df.corr()\n",
    "            elif self.plot_name not in [\"distplot\", \"kdeplot\"]:\n",
    "                kwargs[\"data\"]=self.df\n",
    "            res = method(**kwargs, ax=ax)\n",
    "            return res\n",
    "    "
   ]
  },
  {
   "cell_type": "code",
   "execution_count": 18,
   "metadata": {},
   "outputs": [
    {
     "data": {
      "application/vnd.jupyter.widget-view+json": {
       "model_id": "cbf87a2ad7c24bae95279e2aa134f444",
       "version_major": 2,
       "version_minor": 0
      },
      "text/plain": [
       "PlotUI(children=(VBox(children=(HBox(children=(Checkbox(value=True, description='vmin'), FloatText(value=1.0, …"
      ]
     },
     "metadata": {},
     "output_type": "display_data"
    }
   ],
   "source": [
    "ui = PlotUI(iris, \"heatmap\")\n",
    "ui"
   ]
  },
  {
   "cell_type": "code",
   "execution_count": 19,
   "metadata": {},
   "outputs": [],
   "source": [
    "import ipywidgets as ipyw\n",
    "import seaborn as sns\n",
    "import pandas as pd\n",
    "\n",
    "class SeabornBookletFull(ipyw.Tab):\n",
    "    \n",
    "    def __init__(self, df=None, plot_dict=PLOTS):\n",
    "        if not isinstance(df, pd.DataFrame):\n",
    "            raise ValueError\n",
    "\n",
    "        super().__init__()\n",
    "        \n",
    "        self.df = df\n",
    "        self.tab_names = []\n",
    "        self.tab_contents = []\n",
    "        \n",
    "        for plot in plot_dict:\n",
    "            ui = PlotUI(self.df, plot)\n",
    "            self.tab_names.append(plot)\n",
    "            self.tab_contents.append(ui)\n",
    "        \n",
    "        self.children = self.tab_contents\n",
    "        for i, name in enumerate(self.tab_names):\n",
    "            self.set_title(i, name)"
   ]
  },
  {
   "cell_type": "code",
   "execution_count": 20,
   "metadata": {},
   "outputs": [],
   "source": [
    "s = SeabornBookletFull(iris)"
   ]
  },
  {
   "cell_type": "code",
   "execution_count": 21,
   "metadata": {},
   "outputs": [
    {
     "data": {
      "application/vnd.jupyter.widget-view+json": {
       "model_id": "c8a9b93a843b4bb68b1f3f619ede2131",
       "version_major": 2,
       "version_minor": 0
      },
      "text/plain": [
       "SeabornBookletFull(children=(PlotUI(children=(VBox(children=(HBox(children=(Checkbox(value=True, description='…"
      ]
     },
     "metadata": {},
     "output_type": "display_data"
    }
   ],
   "source": [
    "s"
   ]
  },
  {
   "cell_type": "code",
   "execution_count": null,
   "metadata": {},
   "outputs": [],
   "source": []
  },
  {
   "cell_type": "code",
   "execution_count": null,
   "metadata": {},
   "outputs": [],
   "source": []
  },
  {
   "cell_type": "code",
   "execution_count": null,
   "metadata": {},
   "outputs": [],
   "source": []
  },
  {
   "cell_type": "code",
   "execution_count": null,
   "metadata": {},
   "outputs": [],
   "source": []
  },
  {
   "cell_type": "code",
   "execution_count": null,
   "metadata": {},
   "outputs": [],
   "source": []
  },
  {
   "cell_type": "code",
   "execution_count": null,
   "metadata": {},
   "outputs": [],
   "source": []
  },
  {
   "cell_type": "code",
   "execution_count": null,
   "metadata": {},
   "outputs": [],
   "source": []
  },
  {
   "cell_type": "code",
   "execution_count": 22,
   "metadata": {},
   "outputs": [],
   "source": [
    "import ipywidgets as ipyw\n",
    "import seaborn as sns\n",
    "import pandas as pd\n",
    "\n",
    "class SeabornBookletFull(ipyw.Tab):\n",
    "    \n",
    "    def __init__(self, df=None, plot_dict=PLOTS):\n",
    "        \n",
    "        if not isinstance(df, pd.DataFrame):\n",
    "            raise ValueError\n",
    "        \n",
    "        super().__init__()\n",
    "        \n",
    "        self.df = df\n",
    "        self.wdispenser = WidgetDispenser(df)\n",
    "\n",
    "        self.tab_names = []\n",
    "        self.tab_contents = []\n",
    "        self.outputs = []\n",
    "        self.widget_lists = []\n",
    "        self.widget_names_lists = []\n",
    "        \n",
    "        ## WIDGET CREATION\n",
    "        # loop over tab/plot type to create outputs and widgets\n",
    "        for plot_name, plot_arg_list in plot_dict.items():\n",
    "            print(\"---------- Creating\", plot_name)\n",
    "            # get tab name with plot name\n",
    "            self.tab_names.append(plot_name)\n",
    "            self.widget_names_lists.append(plot_arg_list)\n",
    "            # get all widgets in a VBox\n",
    "            widget_list = []\n",
    "            # create a VBox and Output widgets\n",
    "            vbox = ipyw.VBox()\n",
    "            hbox = ipyw.HBox()\n",
    "            woutput = ipyw.Output()\n",
    "            self.outputs.append(woutput)\n",
    "            # create widgets and add them to the HBox\n",
    "            for arg_name, widget_name in plot_arg_list.items():\n",
    "                # create widget\n",
    "                print(\"creating widget for \", arg_name)\n",
    "                w = self.wdispenser(widget_name)\n",
    "                widget_list.append(w)\n",
    "            self.widget_lists.append(widget_list)\n",
    "            vbox.children = [*widget_list]\n",
    "            \n",
    "            # wrap all the UI for the plot in a hbox\n",
    "            hbox.children = [vbox, woutput]\n",
    "            \n",
    "            self.tab_contents.append(hbox)\n",
    "        \n",
    "        self._connect_widgets()\n",
    "        \n",
    "    \n",
    "        self.children = self.tab_contents\n",
    "        for i, name in enumerate(self.tab_names):\n",
    "            self.set_title(i, name)\n",
    "                    \n",
    "\n",
    "    def plot(self, plot_type, kwargs):\n",
    "        method = getattr(sns, plot_type)\n",
    "        if plot_type not in [\"distplot\", \"kdeplot\"]:\n",
    "            kwargs[\"data\"]=self.df\n",
    "        return method(**kwargs)\n",
    "        \n",
    "    def _connect_widgets(self):\n",
    "        \n",
    "        for plot_name, widget_list, output, wnames_list in zip(self.tab_names,\n",
    "                                                               self.widget_lists, \n",
    "                                                               self.outputs,\n",
    "                                                               self.widget_names_lists):\n",
    "            # create a function to display plot on right output\n",
    "            def display_plot(*_):\n",
    "                with output:\n",
    "                    # clear_output de IPython.display\n",
    "                    clear_output(wait=True)\n",
    "                    #gen_plot()\n",
    "                    kwargs = {}\n",
    "                    # get all widgets names and values in a dict\n",
    "                    for wname, w in zip(wnames_list, widget_list):\n",
    "                        kwargs[wname] = w.value\n",
    "                        \n",
    "                    print(\"plotname :\", plot_name)\n",
    "                    print(\"kwargs : \", kwargs)\n",
    "                    self.plot(plot_name, kwargs)\n",
    "                    show_inline_matplotlib_plots()   \n",
    "            # link widgets values to trigger a replot\n",
    "            for w in widget_list:\n",
    "                w.observe(display_plot, 'value')\n",
    "            \n",
    "\n",
    "      "
   ]
  },
  {
   "cell_type": "code",
   "execution_count": 23,
   "metadata": {},
   "outputs": [
    {
     "name": "stdout",
     "output_type": "stream",
     "text": [
      "---------- Creating heatmap\n",
      "creating widget for  vmin\n",
      "creating widget for  vmax\n",
      "creating widget for  cmap\n",
      "creating widget for  center\n",
      "creating widget for  robust\n",
      "creating widget for  annot\n",
      "creating widget for  fmt\n",
      "creating widget for  linewidths\n",
      "creating widget for  linecolor\n",
      "creating widget for  cbar\n",
      "creating widget for  square\n"
     ]
    }
   ],
   "source": [
    "s = SeabornBookletFull(iris, plot_dict)"
   ]
  },
  {
   "cell_type": "code",
   "execution_count": 24,
   "metadata": {},
   "outputs": [
    {
     "data": {
      "application/vnd.jupyter.widget-view+json": {
       "model_id": "b8909a0d8b3f4a1189d7984cd178d337",
       "version_major": 2,
       "version_minor": 0
      },
      "text/plain": [
       "SeabornBookletFull(children=(HBox(children=(VBox(children=(FloatText(value=1.0, description='vmin', step=0.1),…"
      ]
     },
     "metadata": {},
     "output_type": "display_data"
    }
   ],
   "source": [
    "display(s)"
   ]
  },
  {
   "cell_type": "code",
   "execution_count": null,
   "metadata": {},
   "outputs": [],
   "source": []
  },
  {
   "cell_type": "code",
   "execution_count": null,
   "metadata": {},
   "outputs": [],
   "source": []
  },
  {
   "cell_type": "code",
   "execution_count": 1,
   "metadata": {},
   "outputs": [],
   "source": [
    "%matplotlib ipympl"
   ]
  },
  {
   "cell_type": "code",
   "execution_count": 2,
   "metadata": {},
   "outputs": [],
   "source": [
    "import seaborn as sns\n",
    "from iseaborn import PlotUI, SeabornBookletFull"
   ]
  },
  {
   "cell_type": "code",
   "execution_count": 3,
   "metadata": {},
   "outputs": [],
   "source": [
    "iris = sns.load_dataset(\"iris\")"
   ]
  },
  {
   "cell_type": "code",
   "execution_count": 4,
   "metadata": {},
   "outputs": [
    {
     "data": {
      "application/vnd.jupyter.widget-view+json": {
       "model_id": "ddc2240e7f2b49bfada4d9cceb9eeccd",
       "version_major": 2,
       "version_minor": 0
      },
      "text/plain": [
       "PlotUI(children=(VBox(children=(HBox(children=(Checkbox(value=True, description='x', indent=False, layout=Layo…"
      ]
     },
     "metadata": {},
     "output_type": "display_data"
    }
   ],
   "source": [
    "PlotUI()"
   ]
  },
  {
   "cell_type": "code",
   "execution_count": 6,
   "metadata": {},
   "outputs": [
    {
     "data": {
      "application/vnd.jupyter.widget-view+json": {
       "model_id": "a706c62b211046fd9d29b8130851d3e7",
       "version_major": 2,
       "version_minor": 0
      },
      "text/plain": [
       "SeabornBookletFull(children=(PlotUI(children=(VBox(children=(HBox(children=(Checkbox(value=True, description='…"
      ]
     },
     "metadata": {},
     "output_type": "display_data"
    }
   ],
   "source": [
    "SeabornBookletFull(iris)"
   ]
  },
  {
   "cell_type": "code",
   "execution_count": null,
   "metadata": {},
   "outputs": [],
   "source": []
  }
 ],
 "metadata": {
  "kernelspec": {
   "display_name": "Python 3",
   "language": "python",
   "name": "python3"
  },
  "language_info": {
   "codemirror_mode": {
    "name": "ipython",
    "version": 3
   },
   "file_extension": ".py",
   "mimetype": "text/x-python",
   "name": "python",
   "nbconvert_exporter": "python",
   "pygments_lexer": "ipython3",
   "version": "3.7.4"
  }
 },
 "nbformat": 4,
 "nbformat_minor": 4
}
