{
 "cells": [
  {
   "cell_type": "code",
   "execution_count": 1,
   "metadata": {},
   "outputs": [],
   "source": [
    "import seaborn as sns\n",
    "from iseaborn import PlotUI, BookletUI"
   ]
  },
  {
   "cell_type": "code",
   "execution_count": 2,
   "metadata": {},
   "outputs": [],
   "source": [
    "iris = sns.load_dataset(\"iris\")\n",
    "titanic = sns.load_dataset(\"titanic\")\n",
    "FIGSIZE = (8, 5)"
   ]
  },
  {
   "cell_type": "code",
   "execution_count": 4,
   "metadata": {},
   "outputs": [
    {
     "data": {
      "application/vnd.jupyter.widget-view+json": {
       "model_id": "50e9f845dcee4a9fb911a7a4f66ba950",
       "version_major": 2,
       "version_minor": 0
      },
      "text/plain": [
       "BookletUI(children=(PlotUI(children=(VBox(children=(SelectMultiple(description='a_select', index=(0, 1, 2, 3, …"
      ]
     },
     "metadata": {},
     "output_type": "display_data"
    }
   ],
   "source": [
    "BookletUI(iris, interface=\"pandas\", figsize=FIGSIZE)"
   ]
  },
  {
   "cell_type": "markdown",
   "metadata": {},
   "source": [
    "# Introducion : examples"
   ]
  },
  {
   "cell_type": "markdown",
   "metadata": {},
   "source": [
    "## Countplot example"
   ]
  },
  {
   "cell_type": "code",
   "execution_count": 3,
   "metadata": {},
   "outputs": [
    {
     "data": {
      "application/vnd.jupyter.widget-view+json": {
       "model_id": "e79d0491ff734c848e37fe467c701f2e",
       "version_major": 2,
       "version_minor": 0
      },
      "text/plain": [
       "PlotUI(children=(VBox(children=(SelectMultiple(description='a_select', index=(0, 1, 2, 3, 4), options=('sepal_…"
      ]
     },
     "metadata": {},
     "output_type": "display_data"
    }
   ],
   "source": [
    "PlotUI(iris, 'countplot', figsize=FIGSIZE)"
   ]
  },
  {
   "cell_type": "markdown",
   "metadata": {},
   "source": [
    "## Heatmap with ipympl example"
   ]
  },
  {
   "cell_type": "code",
   "execution_count": 4,
   "metadata": {},
   "outputs": [],
   "source": [
    "%matplotlib ipympl"
   ]
  },
  {
   "cell_type": "code",
   "execution_count": 5,
   "metadata": {},
   "outputs": [
    {
     "data": {
      "application/vnd.jupyter.widget-view+json": {
       "model_id": "1f80f698d746422290bc4fe4a1c80be6",
       "version_major": 2,
       "version_minor": 0
      },
      "text/plain": [
       "PlotUI(children=(VBox(children=(SelectMultiple(description='a_select', index=(0, 1, 2, 3, 4), options=('sepal_…"
      ]
     },
     "metadata": {},
     "output_type": "display_data"
    }
   ],
   "source": [
    "PlotUI(iris, 'heatmap', figsize=FIGSIZE)"
   ]
  },
  {
   "cell_type": "markdown",
   "metadata": {},
   "source": [
    "# API"
   ]
  },
  {
   "cell_type": "markdown",
   "metadata": {},
   "source": [
    "## PlotUI"
   ]
  },
  {
   "cell_type": "code",
   "execution_count": 6,
   "metadata": {},
   "outputs": [
    {
     "data": {
      "application/vnd.jupyter.widget-view+json": {
       "model_id": "1349479503bb41e3a3b6f24b80f64e4a",
       "version_major": 2,
       "version_minor": 0
      },
      "text/plain": [
       "PlotUI(children=(VBox(children=(SelectMultiple(description='a_select', index=(0, 1, 2, 3, 4), options=('sepal_…"
      ]
     },
     "metadata": {},
     "output_type": "display_data"
    }
   ],
   "source": [
    "PlotUI(iris, \"heatmap\",  figsize=FIGSIZE)"
   ]
  },
  {
   "cell_type": "markdown",
   "metadata": {},
   "source": [
    "## Booklet : using tabs"
   ]
  },
  {
   "cell_type": "code",
   "execution_count": 7,
   "metadata": {},
   "outputs": [
    {
     "data": {
      "application/vnd.jupyter.widget-view+json": {
       "model_id": "f97e38f5484e4d80943fa96aa82454ba",
       "version_major": 2,
       "version_minor": 0
      },
      "text/plain": [
       "BookletUI(children=(PlotUI(children=(VBox(children=(SelectMultiple(description='a_select', index=(0, 1, 2, 3, …"
      ]
     },
     "metadata": {},
     "output_type": "display_data"
    }
   ],
   "source": [
    "BookletUI(iris)"
   ]
  },
  {
   "cell_type": "markdown",
   "metadata": {},
   "source": [
    "# Pandas interface"
   ]
  },
  {
   "cell_type": "code",
   "execution_count": null,
   "metadata": {},
   "outputs": [],
   "source": []
  }
 ],
 "metadata": {
  "kernelspec": {
   "display_name": "Python 3",
   "language": "python",
   "name": "python3"
  },
  "language_info": {
   "codemirror_mode": {
    "name": "ipython",
    "version": 3
   },
   "file_extension": ".py",
   "mimetype": "text/x-python",
   "name": "python",
   "nbconvert_exporter": "python",
   "pygments_lexer": "ipython3",
   "version": "3.7.4"
  }
 },
 "nbformat": 4,
 "nbformat_minor": 4
}
